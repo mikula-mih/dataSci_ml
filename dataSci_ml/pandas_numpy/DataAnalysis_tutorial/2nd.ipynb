{
 "cells": [
  {
   "cell_type": "code",
   "execution_count": 1,
   "id": "loved-sheriff",
   "metadata": {},
   "outputs": [],
   "source": [
    "import numpy as np"
   ]
  },
  {
   "cell_type": "code",
   "execution_count": 2,
   "id": "exempt-trailer",
   "metadata": {},
   "outputs": [],
   "source": [
    "xarr = np.array([1.1, 1.2, 1.3, 1.4, 1.5])\n",
    "yarr = np.array([2.1, 2.2, 2.3, 2.4, 2.5])\n",
    "cond = np.array([True, False, True, True, False])"
   ]
  },
  {
   "cell_type": "code",
   "execution_count": 4,
   "id": "employed-cooling",
   "metadata": {},
   "outputs": [
    {
     "data": {
      "text/plain": [
       "[1.1, 2.2, 1.3, 1.4, 2.5]"
      ]
     },
     "execution_count": 4,
     "metadata": {},
     "output_type": "execute_result"
    }
   ],
   "source": [
    "result = [(x if c else y)\n",
    "             for x, y, c in zip(xarr, yarr, cond)]\n",
    "result"
   ]
  },
  {
   "cell_type": "code",
   "execution_count": 6,
   "id": "otherwise-incentive",
   "metadata": {},
   "outputs": [
    {
     "data": {
      "text/plain": [
       "array([1.1, 2.2, 1.3, 1.4, 2.5])"
      ]
     },
     "execution_count": 6,
     "metadata": {},
     "output_type": "execute_result"
    }
   ],
   "source": [
    "result = np.where(cond, xarr, yarr)\n",
    "result"
   ]
  },
  {
   "cell_type": "code",
   "execution_count": 7,
   "id": "coordinate-saint",
   "metadata": {},
   "outputs": [
    {
     "data": {
      "text/plain": [
       "array([[ 1.19177015, -0.3409322 , -0.99522706, -1.86512495],\n",
       "       [-0.64119864, -1.24291636, -1.54500294,  0.13751537],\n",
       "       [ 0.94061521, -1.14253937,  0.29622991, -0.30016449],\n",
       "       [ 0.86049386,  0.88021139,  0.75214107, -0.66842098],\n",
       "       [ 0.28117737,  0.76153243, -0.26629856, -1.54977585]])"
      ]
     },
     "execution_count": 7,
     "metadata": {},
     "output_type": "execute_result"
    }
   ],
   "source": [
    "arr = np.random.randn(5, 4)\n",
    "arr"
   ]
  },
  {
   "cell_type": "code",
   "execution_count": 10,
   "id": "related-assembly",
   "metadata": {},
   "outputs": [
    {
     "data": {
      "text/plain": [
       "-0.22279573269026787"
      ]
     },
     "execution_count": 10,
     "metadata": {},
     "output_type": "execute_result"
    }
   ],
   "source": [
    "arr.mean()"
   ]
  },
  {
   "cell_type": "code",
   "execution_count": 11,
   "id": "extended-scene",
   "metadata": {},
   "outputs": [
    {
     "data": {
      "text/plain": [
       "-4.455914653805357"
      ]
     },
     "execution_count": 11,
     "metadata": {},
     "output_type": "execute_result"
    }
   ],
   "source": [
    "arr.sum()"
   ]
  },
  {
   "cell_type": "code",
   "execution_count": 12,
   "id": "behavioral-banking",
   "metadata": {},
   "outputs": [
    {
     "data": {
      "text/plain": [
       "9"
      ]
     },
     "execution_count": 12,
     "metadata": {},
     "output_type": "execute_result"
    }
   ],
   "source": [
    "(arr > 0).sum()"
   ]
  },
  {
   "cell_type": "code",
   "execution_count": 14,
   "id": "metric-thermal",
   "metadata": {},
   "outputs": [
    {
     "name": "stdout",
     "output_type": "stream",
     "text": [
      "True --  False\n"
     ]
    }
   ],
   "source": [
    "bools = np.array([False, False, True, False])\n",
    "print('{} --  {}'.format(bools.any(), bools.all()))"
   ]
  },
  {
   "cell_type": "code",
   "execution_count": 15,
   "id": "infinite-norman",
   "metadata": {},
   "outputs": [
    {
     "data": {
      "text/plain": [
       "array([[-1.86512495, -0.99522706, -0.3409322 ,  1.19177015],\n",
       "       [-1.54500294, -1.24291636, -0.64119864,  0.13751537],\n",
       "       [-1.14253937, -0.30016449,  0.29622991,  0.94061521],\n",
       "       [-0.66842098,  0.75214107,  0.86049386,  0.88021139],\n",
       "       [-1.54977585, -0.26629856,  0.28117737,  0.76153243]])"
      ]
     },
     "execution_count": 15,
     "metadata": {},
     "output_type": "execute_result"
    }
   ],
   "source": [
    "arr.sort()\n",
    "arr"
   ]
  },
  {
   "cell_type": "code",
   "execution_count": 16,
   "id": "linear-understanding",
   "metadata": {},
   "outputs": [
    {
     "data": {
      "text/plain": [
       "-1.6412410243529345"
      ]
     },
     "execution_count": 16,
     "metadata": {},
     "output_type": "execute_result"
    }
   ],
   "source": [
    "large_arr = np.random.randn(1000)\n",
    "large_arr.sort()\n",
    "large_arr[int(0.05 * len(large_arr))]"
   ]
  },
  {
   "cell_type": "code",
   "execution_count": 20,
   "id": "surprised-ownership",
   "metadata": {},
   "outputs": [],
   "source": [
    "np.save('some_array', arr)\n",
    "np.savez('array_archive.npz', a=arr, b=arr)\n",
    "np.savez_compressed('arrays_compressed.npz', a=arr, b=arr)"
   ]
  },
  {
   "cell_type": "code",
   "execution_count": 18,
   "id": "consistent-cabin",
   "metadata": {},
   "outputs": [
    {
     "data": {
      "text/plain": [
       "array([[-1.86512495, -0.99522706, -0.3409322 ,  1.19177015],\n",
       "       [-1.54500294, -1.24291636, -0.64119864,  0.13751537],\n",
       "       [-1.14253937, -0.30016449,  0.29622991,  0.94061521],\n",
       "       [-0.66842098,  0.75214107,  0.86049386,  0.88021139],\n",
       "       [-1.54977585, -0.26629856,  0.28117737,  0.76153243]])"
      ]
     },
     "execution_count": 18,
     "metadata": {},
     "output_type": "execute_result"
    }
   ],
   "source": [
    "np.load('some_array.npy')"
   ]
  },
  {
   "cell_type": "code",
   "execution_count": null,
   "id": "unknown-conservation",
   "metadata": {},
   "outputs": [],
   "source": []
  }
 ],
 "metadata": {
  "kernelspec": {
   "display_name": "Python 3",
   "language": "python",
   "name": "python3"
  },
  "language_info": {
   "codemirror_mode": {
    "name": "ipython",
    "version": 3
   },
   "file_extension": ".py",
   "mimetype": "text/x-python",
   "name": "python",
   "nbconvert_exporter": "python",
   "pygments_lexer": "ipython3",
   "version": "3.7.10"
  }
 },
 "nbformat": 4,
 "nbformat_minor": 5
}
