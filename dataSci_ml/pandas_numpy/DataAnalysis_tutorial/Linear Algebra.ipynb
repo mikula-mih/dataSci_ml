{
 "cells": [
  {
   "cell_type": "code",
   "execution_count": 3,
   "id": "resistant-restaurant",
   "metadata": {},
   "outputs": [],
   "source": [
    "import numpy as np\n",
    "from numpy.linalg import inv, qr"
   ]
  },
  {
   "cell_type": "code",
   "execution_count": 6,
   "id": "standard-gauge",
   "metadata": {},
   "outputs": [
    {
     "data": {
      "text/plain": [
       "array([[  6589.18757785,  -1714.45725314, -17024.42957386,\n",
       "          9177.85968008, -13711.96436676],\n",
       "       [ -1714.45725314,    446.45943764,   4430.41667156,\n",
       "         -2388.33102436,   3568.19968466],\n",
       "       [-17024.42957386,   4430.41667156,  43990.49528493,\n",
       "        -23714.88974293,  35430.50562524],\n",
       "       [  9177.85968008,  -2388.33102436, -23714.88974293,\n",
       "         12784.64316269, -19100.33414497],\n",
       "       [-13711.96436676,   3568.19968466,  35430.50562524,\n",
       "        -19100.33414497,  28536.64958133]])"
      ]
     },
     "execution_count": 6,
     "metadata": {},
     "output_type": "execute_result"
    }
   ],
   "source": [
    "X = np.random.randn(5, 5)\n",
    "mat = X.T.dot(X)\n",
    "inv(mat)"
   ]
  },
  {
   "cell_type": "code",
   "execution_count": 7,
   "id": "welcome-webcam",
   "metadata": {},
   "outputs": [
    {
     "data": {
      "text/plain": [
       "array([[ 1.00000000e+00, -3.25787136e-13, -9.36947095e-13,\n",
       "        -8.67657142e-12,  4.78644580e-12],\n",
       "       [ 3.57353173e-12,  1.00000000e+00, -3.75081150e-12,\n",
       "        -7.93970487e-13, -4.04750019e-12],\n",
       "       [ 6.64633495e-12, -3.86983128e-12,  1.00000000e+00,\n",
       "         2.37699081e-11, -1.36108507e-11],\n",
       "       [-9.30971026e-14,  1.44204952e-12,  2.05266818e-11,\n",
       "         1.00000000e+00,  2.06217412e-11],\n",
       "       [-1.06658337e-11,  2.97034773e-12, -3.06023269e-12,\n",
       "        -1.63460721e-11,  1.00000000e+00]])"
      ]
     },
     "execution_count": 7,
     "metadata": {},
     "output_type": "execute_result"
    }
   ],
   "source": [
    "mat.dot(inv(mat))"
   ]
  },
  {
   "cell_type": "code",
   "execution_count": 8,
   "id": "material-hollow",
   "metadata": {},
   "outputs": [
    {
     "data": {
      "text/plain": [
       "array([[-2.94052648e+00, -1.11288005e+00,  4.31444474e+00,\n",
       "         6.39446615e+00, -2.35053115e+00],\n",
       "       [ 0.00000000e+00, -5.36906634e+00,  4.00940201e+00,\n",
       "         4.14314611e+00, -1.53353139e+00],\n",
       "       [ 0.00000000e+00,  0.00000000e+00, -2.88667851e+00,\n",
       "        -4.60803461e+00,  4.99763495e-01],\n",
       "       [ 0.00000000e+00,  0.00000000e+00,  0.00000000e+00,\n",
       "        -3.84723312e+00, -2.57508091e+00],\n",
       "       [ 0.00000000e+00,  0.00000000e+00,  0.00000000e+00,\n",
       "         0.00000000e+00,  1.94800657e-05]])"
      ]
     },
     "execution_count": 8,
     "metadata": {},
     "output_type": "execute_result"
    }
   ],
   "source": [
    "q, r = qr(mat)\n",
    "r"
   ]
  },
  {
   "cell_type": "code",
   "execution_count": null,
   "id": "favorite-providence",
   "metadata": {},
   "outputs": [],
   "source": []
  }
 ],
 "metadata": {
  "kernelspec": {
   "display_name": "Python 3",
   "language": "python",
   "name": "python3"
  },
  "language_info": {
   "codemirror_mode": {
    "name": "ipython",
    "version": 3
   },
   "file_extension": ".py",
   "mimetype": "text/x-python",
   "name": "python",
   "nbconvert_exporter": "python",
   "pygments_lexer": "ipython3",
   "version": "3.7.10"
  }
 },
 "nbformat": 4,
 "nbformat_minor": 5
}
